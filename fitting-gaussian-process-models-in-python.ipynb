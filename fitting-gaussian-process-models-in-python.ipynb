{
 "cells": [
  {
   "cell_type": "markdown",
   "id": "db3593be-349e-4a6f-9a48-6b9f9438bf12",
   "metadata": {},
   "source": [
    "# Fitting Gaussian Process Models in Python"
   ]
  },
  {
   "cell_type": "markdown",
   "id": "f339babf-72e7-4c17-842e-61f422aa4626",
   "metadata": {},
   "source": [
    "## Building models with Gaussians"
   ]
  },
  {
   "cell_type": "code",
   "execution_count": 1,
   "id": "0f3f279e-947a-4650-adae-f47587ad05cc",
   "metadata": {},
   "outputs": [],
   "source": [
    "import numpy as np\n",
    "import matplotlib.pyplot as plt"
   ]
  },
  {
   "cell_type": "markdown",
   "id": "f0d9503d-3d49-44e8-8f41-a5cc4f6bef9d",
   "metadata": {},
   "source": [
    "A Gaussian Process (GP) is fully specified by a mean function and a covariance function.\n",
    "\n",
    "$$ p(x) \\sim \\mathcal{GP}(m(x), k(x,x')) $$\n",
    "\n",
    "One possible specification is:\n",
    "\n",
    "$$ \n",
    "\\begin{align*} \n",
    "    m(x) &= 0 \\\\\n",
    "    k(x, x') &= \\theta_1\\exp{\\left(-\\frac{\\theta_2}{2}(x-x')^2\\right)}\n",
    "\\end{align*} \n",
    "$$"
   ]
  },
  {
   "cell_type": "code",
   "execution_count": 2,
   "id": "deb09c85-93dd-4ca9-955c-29f5c1944603",
   "metadata": {},
   "outputs": [],
   "source": [
    "def exponential_cov(x, y, params):\n",
    "    return params[0] * np.exp(-0.5 * params[1] * np.power(np.subtract.outer(x,y), 2))"
   ]
  },
  {
   "cell_type": "markdown",
   "id": "7e7a0ca2-9e30-4559-94b0-72d9b96d757d",
   "metadata": {},
   "source": [
    "Using the conditional property of multivariate Gaussian distributions, we can generate realizations sequentially, point by point.\n",
    "\n",
    "$$ p(x|y) = \\mathcal{N}(\\mu_x + \\Sigma_{xy}\\Sigma_y^{-1}(y-\\mu_y),\n",
    "\\Sigma_x-\\Sigma{xy}\\Sigma_y^{-1}\\Sigma{xy}^T) $$"
   ]
  },
  {
   "cell_type": "code",
   "execution_count": 3,
   "id": "bcd808bb-9ef5-49ef-92d3-a7693574c939",
   "metadata": {},
   "outputs": [],
   "source": [
    "def conditional(x_new, x, y, params):\n",
    "    B = exponential_cov(x_new, x, params)\n",
    "    C = exponential_cov(x, x, params)\n",
    "    A = exponential_cov(x_new, x_new, params)\n",
    "    mu = np.linalg.inv(C).dot(B.T).T.dot(y)\n",
    "    sigma = A - B.dot(np.linalg.inv(C).dot(B.T))\n",
    "    return mu.squeeze(), sigma.squeeze()"
   ]
  },
  {
   "cell_type": "markdown",
   "id": "348e18aa-7fca-41b0-9b40-4f223e6f9265",
   "metadata": {},
   "source": [
    "Start with a GP prior with hyperparameters $\\sigma_0=1,\\sigma_1=10.$"
   ]
  },
  {
   "cell_type": "code",
   "execution_count": 4,
   "id": "c7e78724-9555-4400-a6b5-75404b3d028d",
   "metadata": {},
   "outputs": [
    {
     "data": {
      "image/png": "[encoded data removed]",
      "text/plain": [
       "<Figure size 432x288 with 1 Axes>"
      ]
     },
     "metadata": {
      "needs_background": "light"
     },
     "output_type": "display_data"
    }
   ],
   "source": [
    "theta = [1, 10]\n",
    "sigma_0 = exponential_cov(0, 0, theta)\n",
    "xpts = np.arange(-3, 3, step=0.01)\n",
    "plt.errorbar(xpts, np.zeros(len(xpts)), yerr=sigma_0, capsize=0)\n",
    "plt.show()"
   ]
  },
  {
   "cell_type": "markdown",
   "id": "e8f02c1c-b9e1-486c-9f8c-27555abe7e82",
   "metadata": {},
   "source": [
    "Select an arbitrary starting point to sample, say $x=1$. With no previous points, we can sample from an unconditional Gaussian."
   ]
  },
  {
   "cell_type": "code",
   "execution_count": 5,
   "id": "8d996dcc-85eb-4503-9547-ee658b928343",
   "metadata": {},
   "outputs": [
    {
     "name": "stdout",
     "output_type": "stream",
     "text": [
      "[2.0089810532585686]\n"
     ]
    }
   ],
   "source": [
    "x = [1.]\n",
    "y = [np.random.normal(scale=sigma_0)]\n",
    "print(y)"
   ]
  },
  {
   "cell_type": "markdown",
   "id": "222f6425-eb33-43db-a89e-3d1a4a590d32",
   "metadata": {},
   "source": [
    "We can now update our confidence band, given the point that we just sampled, using the covariance function to generate new point-wise intervals, conditional on the value $(x_0, y_0)$."
   ]
  },
  {
   "cell_type": "code",
   "execution_count": 6,
   "id": "2fe119a3-e846-4c60-a742-03996e4bf8d1",
   "metadata": {},
   "outputs": [],
   "source": [
    "def predict(x, data, kernel, params, sigma, t):\n",
    "    k = [kernel(x, y, params) for y in data]\n",
    "    Sinv = np.linalg.inv(sigma)\n",
    "    y_pred = np.dot(k, Sinv).dot(t)\n",
    "    sigma_new = kernel(x, y, params) - np.dot(k, Sinv).dot(k)\n",
    "    return y_pred, sigma_new.item()\n",
    "\n",
    "sigma_1 = exponential_cov(x, x, theta)\n",
    "x_pred = np.linspace(-3, 3, 1000)\n",
    "predictions = [predict(i, x, exponential_cov, theta, sigma_1, y) for i in x_pred]"
   ]
  },
  {
   "cell_type": "code",
   "execution_count": 7,
   "id": "305b4ca9-95ec-45de-92f0-1f221ef11c1a",
   "metadata": {},
   "outputs": [
    {
     "data": {
      "image/png": "[encoded data removed]",
      "text/plain": [
       "<Figure size 432x288 with 1 Axes>"
      ]
     },
     "metadata": {
      "needs_background": "light"
     },
     "output_type": "display_data"
    }
   ],
   "source": [
    "y_pred, sigmas = np.transpose(predictions)\n",
    "plt.errorbar(x_pred, y_pred, yerr=sigmas, capsize=0)\n",
    "plt.plot(x, y, 'ro')\n",
    "plt.show()"
   ]
  },
  {
   "cell_type": "markdown",
   "id": "ae84f85c-5a2c-40a0-b2f4-fe6e0b193f67",
   "metadata": {},
   "source": [
    "Sample another point."
   ]
  },
  {
   "cell_type": "code",
   "execution_count": 8,
   "id": "5a677ac5-7e71-4ab7-9b07-bd304ef4ca9f",
   "metadata": {},
   "outputs": [
    {
     "name": "stdout",
     "output_type": "stream",
     "text": [
      "-0.9689310539862385\n"
     ]
    }
   ],
   "source": [
    "m, s = conditional([-0.7], x, y, theta)\n",
    "y2 = np.random.normal(m, s)\n",
    "print(y2)"
   ]
  },
  {
   "cell_type": "markdown",
   "id": "f5a759c4-44f5-45d4-9e87-2e8248883532",
   "metadata": {},
   "source": [
    "Add the point to the realization and update the location for the next point."
   ]
  },
  {
   "cell_type": "code",
   "execution_count": 9,
   "id": "3533d1b7-ae9d-4d74-915b-ea9c7f2b3f0b",
   "metadata": {},
   "outputs": [
    {
     "ename": "ValueError",
     "evalue": "can only convert an array of size 1 to a Python scalar",
     "output_type": "error",
     "traceback": [
      "\u001b[0;31m---------------------------------------------------------------------------\u001b[0m",
      "\u001b[0;31mValueError\u001b[0m                                Traceback (most recent call last)",
      "Input \u001b[0;32mIn [9]\u001b[0m, in \u001b[0;36m<cell line: 4>\u001b[0;34m()\u001b[0m\n\u001b[1;32m      2\u001b[0m y\u001b[38;5;241m.\u001b[39mappend(y2)\n\u001b[1;32m      3\u001b[0m sigma_2 \u001b[38;5;241m=\u001b[39m exponential_cov(x, x, theta)\n\u001b[0;32m----> 4\u001b[0m predictions \u001b[38;5;241m=\u001b[39m [predict(i, x, exponential_cov, theta, sigma_2, y) \u001b[38;5;28;01mfor\u001b[39;00m i \u001b[38;5;129;01min\u001b[39;00m x_pred]\n",
      "Input \u001b[0;32mIn [9]\u001b[0m, in \u001b[0;36m<listcomp>\u001b[0;34m(.0)\u001b[0m\n\u001b[1;32m      2\u001b[0m y\u001b[38;5;241m.\u001b[39mappend(y2)\n\u001b[1;32m      3\u001b[0m sigma_2 \u001b[38;5;241m=\u001b[39m exponential_cov(x, x, theta)\n\u001b[0;32m----> 4\u001b[0m predictions \u001b[38;5;241m=\u001b[39m [\u001b[43mpredict\u001b[49m\u001b[43m(\u001b[49m\u001b[43mi\u001b[49m\u001b[43m,\u001b[49m\u001b[43m \u001b[49m\u001b[43mx\u001b[49m\u001b[43m,\u001b[49m\u001b[43m \u001b[49m\u001b[43mexponential_cov\u001b[49m\u001b[43m,\u001b[49m\u001b[43m \u001b[49m\u001b[43mtheta\u001b[49m\u001b[43m,\u001b[49m\u001b[43m \u001b[49m\u001b[43msigma_2\u001b[49m\u001b[43m,\u001b[49m\u001b[43m \u001b[49m\u001b[43my\u001b[49m\u001b[43m)\u001b[49m \u001b[38;5;28;01mfor\u001b[39;00m i \u001b[38;5;129;01min\u001b[39;00m x_pred]\n",
      "Input \u001b[0;32mIn [6]\u001b[0m, in \u001b[0;36mpredict\u001b[0;34m(x, data, kernel, params, sigma, t)\u001b[0m\n\u001b[1;32m      4\u001b[0m y_pred \u001b[38;5;241m=\u001b[39m np\u001b[38;5;241m.\u001b[39mdot(k, Sinv)\u001b[38;5;241m.\u001b[39mdot(t)\n\u001b[1;32m      5\u001b[0m sigma_new \u001b[38;5;241m=\u001b[39m kernel(x, y, params) \u001b[38;5;241m-\u001b[39m np\u001b[38;5;241m.\u001b[39mdot(k, Sinv)\u001b[38;5;241m.\u001b[39mdot(k)\n\u001b[0;32m----> 6\u001b[0m \u001b[38;5;28;01mreturn\u001b[39;00m y_pred, \u001b[43msigma_new\u001b[49m\u001b[38;5;241;43m.\u001b[39;49m\u001b[43mitem\u001b[49m\u001b[43m(\u001b[49m\u001b[43m)\u001b[49m\n",
      "\u001b[0;31mValueError\u001b[0m: can only convert an array of size 1 to a Python scalar"
     ]
    }
   ],
   "source": [
    "x.append(-0.7)\n",
    "y.append(y2)\n",
    "sigma_2 = exponential_cov(x, x, theta)\n",
    "predictions = [predict(i, x, exponential_cov, theta, sigma_2, y) for i in x_pred]"
   ]
  },
  {
   "cell_type": "code",
   "execution_count": null,
   "id": "9a20342e-576c-44c7-9606-1eae7ac0afd9",
   "metadata": {},
   "outputs": [],
   "source": [
    "y_pred, sigmas = np.transpose(predictions)\n",
    "plt.errorbar(x_pred, y_pred, yerr=sigmas, capsize=0)\n",
    "plt.plot(x, y, 'ro')\n",
    "plt.show()"
   ]
  }
 ],
 "metadata": {
  "kernelspec": {
   "display_name": "gp_p38",
   "language": "python",
   "name": "gp_p38"
  },
  "language_info": {
   "codemirror_mode": {
    "name": "ipython",
    "version": 3
   },
   "file_extension": ".py",
   "mimetype": "text/x-python",
   "name": "python",
   "nbconvert_exporter": "python",
   "pygments_lexer": "ipython3",
   "version": "3.8.13"
  }
 },
 "nbformat": 4,
 "nbformat_minor": 5
}
