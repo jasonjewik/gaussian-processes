{
 "cells": [
  {
   "cell_type": "markdown",
   "id": "db3593be-349e-4a6f-9a48-6b9f9438bf12",
   "metadata": {},
   "source": [
    "# Fitting Gaussian Process Models in Python"
   ]
  },
  {
   "cell_type": "markdown",
   "id": "f339babf-72e7-4c17-842e-61f422aa4626",
   "metadata": {},
   "source": [
    "## Building models with Gaussians"
   ]
  },
  {
   "cell_type": "code",
   "execution_count": 28,
   "id": "0f3f279e-947a-4650-adae-f47587ad05cc",
   "metadata": {},
   "outputs": [],
   "source": [
    "import numpy as np\n",
    "import matplotlib.pyplot as plt\n",
    "\n",
    "np.random.seed(0)"
   ]
  },
  {
   "cell_type": "markdown",
   "id": "f0d9503d-3d49-44e8-8f41-a5cc4f6bef9d",
   "metadata": {},
   "source": [
    "A Gaussian Process (GP) is fully specified by a mean function and a covariance function.\n",
    "\n",
    "$$ p(x) \\sim \\mathcal{GP}(m(x), k(x,x')) $$\n",
    "\n",
    "One possible specification is:\n",
    "\n",
    "$$ \n",
    "\\begin{align*} \n",
    "    m(x) &= 0 \\\\\n",
    "    k(x, x') &= \\theta_1\\exp{\\left(-\\frac{\\theta_2}{2}(x-x')^2\\right)}\n",
    "\\end{align*} \n",
    "$$"
   ]
  },
  {
   "cell_type": "code",
   "execution_count": 5,
   "id": "deb09c85-93dd-4ca9-955c-29f5c1944603",
   "metadata": {},
   "outputs": [],
   "source": [
    "def exponential_cov(x, y, params):\n",
    "    return params[0] * np.exp(-0.5 * params[1] * np.power(np.subtract.outer(x,y), 2))"
   ]
  },
  {
   "cell_type": "markdown",
   "id": "7e7a0ca2-9e30-4559-94b0-72d9b96d757d",
   "metadata": {},
   "source": [
    "Using the conditional property of multivariate Gaussian distributions, we can generate realizations sequentially, point by point.\n",
    "\n",
    "$$ p(x|y) = \\mathcal{N}(\\mu_x + \\Sigma_{xy}\\Sigma_y^{-1}(y-\\mu_y),\n",
    "\\Sigma_x-\\Sigma{xy}\\Sigma_y^{-1}\\Sigma{xy}^T) $$"
   ]
  },
  {
   "cell_type": "code",
   "execution_count": 6,
   "id": "bcd808bb-9ef5-49ef-92d3-a7693574c939",
   "metadata": {},
   "outputs": [],
   "source": [
    "def conditional(x_new, x, y, params):\n",
    "    B = exponential_cov(x_new, x, params)\n",
    "    C = exponential_cov(x, x, params)\n",
    "    A = exponential_cov(x_new, x_new, params)\n",
    "    mu = np.linalg.inv(C).dot(B.T).T.dot(y)\n",
    "    sigma = A - B.dot(np.linalg.inv(C).dot(B.T))\n",
    "    return mu.squeeze(), sigma.squeeze()"
   ]
  },
  {
   "cell_type": "markdown",
   "id": "348e18aa-7fca-41b0-9b40-4f223e6f9265",
   "metadata": {},
   "source": [
    "Start with a GP prior with hyperparameters $\\sigma_0=1,\\sigma_1=10.$"
   ]
  },
  {
   "cell_type": "code",
   "execution_count": 7,
   "id": "c7e78724-9555-4400-a6b5-75404b3d028d",
   "metadata": {},
   "outputs": [
    {
     "data": {
      "image/png": "[encoded data removed]",
      "text/plain": [
       "<Figure size 432x288 with 1 Axes>"
      ]
     },
     "metadata": {
      "needs_background": "light"
     },
     "output_type": "display_data"
    }
   ],
   "source": [
    "theta = [1, 10]\n",
    "sigma_0 = exponential_cov(0, 0, theta)\n",
    "xpts = np.arange(-3, 3, step=0.01)\n",
    "plt.errorbar(xpts, np.zeros(len(xpts)), yerr=sigma_0, capsize=0)\n",
    "plt.show()"
   ]
  },
  {
   "cell_type": "markdown",
   "id": "e8f02c1c-b9e1-486c-9f8c-27555abe7e82",
   "metadata": {},
   "source": [
    "Select an arbitrary starting point to sample, say $x=1$. With no previous points, we can sample from an unconditional Gaussian."
   ]
  },
  {
   "cell_type": "code",
   "execution_count": 8,
   "id": "8d996dcc-85eb-4503-9547-ee658b928343",
   "metadata": {},
   "outputs": [
    {
     "name": "stdout",
     "output_type": "stream",
     "text": [
      "[0.11319963311945165]\n"
     ]
    }
   ],
   "source": [
    "x = [1.]\n",
    "y = [np.random.normal(scale=sigma_0)]\n",
    "print(y)"
   ]
  },
  {
   "cell_type": "markdown",
   "id": "222f6425-eb33-43db-a89e-3d1a4a590d32",
   "metadata": {},
   "source": [
    "We can now update our confidence band, given the point that we just sampled, using the covariance function to generate new point-wise intervals, conditional on the value $(x_0, y_0)$."
   ]
  },
  {
   "cell_type": "code",
   "execution_count": 9,
   "id": "2fe119a3-e846-4c60-a742-03996e4bf8d1",
   "metadata": {},
   "outputs": [],
   "source": [
    "def predict(x, data, kernel, params, sigma, t):\n",
    "    k = [kernel(x, y, params) for y in data]\n",
    "    Sinv = np.linalg.inv(sigma)\n",
    "    y_pred = np.dot(k, Sinv).dot(t)\n",
    "    sigma_new = kernel(x, y, params) - np.dot(k, Sinv).dot(k)\n",
    "    return y_pred, sigma_new.item()\n",
    "\n",
    "sigma_1 = exponential_cov(x, x, theta)\n",
    "x_pred = np.linspace(-3, 3, 1000)\n",
    "predictions = [predict(i, x, exponential_cov, theta, sigma_1, y) for i in x_pred]"
   ]
  },
  {
   "cell_type": "code",
   "execution_count": 10,
   "id": "305b4ca9-95ec-45de-92f0-1f221ef11c1a",
   "metadata": {},
   "outputs": [
    {
     "data": {
      "image/png": "[encoded data removed]",
      "text/plain": [
       "<Figure size 432x288 with 1 Axes>"
      ]
     },
     "metadata": {
      "needs_background": "light"
     },
     "output_type": "display_data"
    }
   ],
   "source": [
    "y_pred, sigmas = np.transpose(predictions)\n",
    "plt.errorbar(x_pred, y_pred, yerr=sigmas, capsize=0)\n",
    "plt.plot(x, y, 'ro')\n",
    "plt.show()"
   ]
  },
  {
   "cell_type": "markdown",
   "id": "ae84f85c-5a2c-40a0-b2f4-fe6e0b193f67",
   "metadata": {},
   "source": [
    "Sample another point."
   ]
  },
  {
   "cell_type": "code",
   "execution_count": 11,
   "id": "5a677ac5-7e71-4ab7-9b07-bd304ef4ca9f",
   "metadata": {},
   "outputs": [
    {
     "name": "stdout",
     "output_type": "stream",
     "text": [
      "-0.2262095884953349\n"
     ]
    }
   ],
   "source": [
    "m, s = conditional([-0.7], x, y, theta)\n",
    "y2 = np.random.normal(m, s)\n",
    "print(y2)"
   ]
  },
  {
   "cell_type": "markdown",
   "id": "f5a759c4-44f5-45d4-9e87-2e8248883532",
   "metadata": {},
   "source": [
    "Add the point to the realization and update the location for the next point."
   ]
  },
  {
   "cell_type": "code",
   "execution_count": 12,
   "id": "3533d1b7-ae9d-4d74-915b-ea9c7f2b3f0b",
   "metadata": {},
   "outputs": [
    {
     "ename": "ValueError",
     "evalue": "can only convert an array of size 1 to a Python scalar",
     "output_type": "error",
     "traceback": [
      "\u001b[0;31m---------------------------------------------------------------------------\u001b[0m",
      "\u001b[0;31mValueError\u001b[0m                                Traceback (most recent call last)",
      "Input \u001b[0;32mIn [12]\u001b[0m, in \u001b[0;36m<cell line: 4>\u001b[0;34m()\u001b[0m\n\u001b[1;32m      2\u001b[0m y\u001b[38;5;241m.\u001b[39mappend(y2)\n\u001b[1;32m      3\u001b[0m sigma_2 \u001b[38;5;241m=\u001b[39m exponential_cov(x, x, theta)\n\u001b[0;32m----> 4\u001b[0m predictions \u001b[38;5;241m=\u001b[39m [predict(i, x, exponential_cov, theta, sigma_2, y) \u001b[38;5;28;01mfor\u001b[39;00m i \u001b[38;5;129;01min\u001b[39;00m x_pred]\n",
      "Input \u001b[0;32mIn [12]\u001b[0m, in \u001b[0;36m<listcomp>\u001b[0;34m(.0)\u001b[0m\n\u001b[1;32m      2\u001b[0m y\u001b[38;5;241m.\u001b[39mappend(y2)\n\u001b[1;32m      3\u001b[0m sigma_2 \u001b[38;5;241m=\u001b[39m exponential_cov(x, x, theta)\n\u001b[0;32m----> 4\u001b[0m predictions \u001b[38;5;241m=\u001b[39m [\u001b[43mpredict\u001b[49m\u001b[43m(\u001b[49m\u001b[43mi\u001b[49m\u001b[43m,\u001b[49m\u001b[43m \u001b[49m\u001b[43mx\u001b[49m\u001b[43m,\u001b[49m\u001b[43m \u001b[49m\u001b[43mexponential_cov\u001b[49m\u001b[43m,\u001b[49m\u001b[43m \u001b[49m\u001b[43mtheta\u001b[49m\u001b[43m,\u001b[49m\u001b[43m \u001b[49m\u001b[43msigma_2\u001b[49m\u001b[43m,\u001b[49m\u001b[43m \u001b[49m\u001b[43my\u001b[49m\u001b[43m)\u001b[49m \u001b[38;5;28;01mfor\u001b[39;00m i \u001b[38;5;129;01min\u001b[39;00m x_pred]\n",
      "Input \u001b[0;32mIn [9]\u001b[0m, in \u001b[0;36mpredict\u001b[0;34m(x, data, kernel, params, sigma, t)\u001b[0m\n\u001b[1;32m      4\u001b[0m y_pred \u001b[38;5;241m=\u001b[39m np\u001b[38;5;241m.\u001b[39mdot(k, Sinv)\u001b[38;5;241m.\u001b[39mdot(t)\n\u001b[1;32m      5\u001b[0m sigma_new \u001b[38;5;241m=\u001b[39m kernel(x, y, params) \u001b[38;5;241m-\u001b[39m np\u001b[38;5;241m.\u001b[39mdot(k, Sinv)\u001b[38;5;241m.\u001b[39mdot(k)\n\u001b[0;32m----> 6\u001b[0m \u001b[38;5;28;01mreturn\u001b[39;00m y_pred, \u001b[43msigma_new\u001b[49m\u001b[38;5;241;43m.\u001b[39;49m\u001b[43mitem\u001b[49m\u001b[43m(\u001b[49m\u001b[43m)\u001b[49m\n",
      "\u001b[0;31mValueError\u001b[0m: can only convert an array of size 1 to a Python scalar"
     ]
    }
   ],
   "source": [
    "x.append(-0.7)\n",
    "y.append(y2)\n",
    "sigma_2 = exponential_cov(x, x, theta)\n",
    "predictions = [predict(i, x, exponential_cov, theta, sigma_2, y) for i in x_pred]"
   ]
  },
  {
   "cell_type": "code",
   "execution_count": 13,
   "id": "e89bb61b-671d-4c33-9074-15f2cd5bfca0",
   "metadata": {},
   "outputs": [
    {
     "data": {
      "image/png": "[encoded data removed]",
      "text/plain": [
       "<Figure size 432x288 with 1 Axes>"
      ]
     },
     "metadata": {
      "needs_background": "light"
     },
     "output_type": "display_data"
    }
   ],
   "source": [
    "y_pred, sigmas = np.transpose(predictions)\n",
    "plt.errorbar(x_pred, y_pred, yerr=sigmas, capsize=0)\n",
    "plt.plot(x, y, 'ro')\n",
    "plt.show()"
   ]
  },
  {
   "cell_type": "markdown",
   "id": "db305aaa-ab23-4f42-8278-4a1707c78900",
   "metadata": {},
   "source": [
    "# Fitting Gaussian Processes in Python"
   ]
  },
  {
   "cell_type": "code",
   "execution_count": 39,
   "id": "96df8ff6-a8b2-41d7-bfc7-7902a6b542ba",
   "metadata": {},
   "outputs": [
    {
     "data": {
      "image/png": "[encoded data removed]",
      "text/plain": [
       "<Figure size 432x288 with 1 Axes>"
      ]
     },
     "metadata": {
      "needs_background": "light"
     },
     "output_type": "display_data"
    }
   ],
   "source": [
    "X = np.linspace(-5, 5, 100)\n",
    "noise = np.random.rand(*X.shape)\n",
    "X += noise\n",
    "\n",
    "Y = np.sin(X)\n",
    "noise = np.random.rand(*Y.shape)\n",
    "Y *= noise\n",
    "\n",
    "plt.scatter(X, Y)\n",
    "plt.show()"
   ]
  },
  {
   "cell_type": "markdown",
   "id": "b2ae897d-5ef5-471c-9399-8f841faf4704",
   "metadata": {},
   "source": [
    "## scikit-learn"
   ]
  },
  {
   "cell_type": "code",
   "execution_count": 1,
   "id": "f06a3e06-75fc-48b4-a6fc-72d19c4c166a",
   "metadata": {},
   "outputs": [],
   "source": [
    "from sklearn import gaussian_process\n",
    "from sklearn.gaussian_process.kernels import Matern, WhiteKernel, ConstantKernel"
   ]
  },
  {
   "cell_type": "code",
   "execution_count": 46,
   "id": "da1cc504-d7e3-48f9-9d12-1f7e1705a657",
   "metadata": {},
   "outputs": [
    {
     "data": {
      "text/plain": [
       "['GaussianProcessClassifier',\n",
       " 'GaussianProcessRegressor',\n",
       " '__all__',\n",
       " '__builtins__',\n",
       " '__cached__',\n",
       " '__doc__',\n",
       " '__file__',\n",
       " '__loader__',\n",
       " '__name__',\n",
       " '__package__',\n",
       " '__path__',\n",
       " '__spec__',\n",
       " '_gpc',\n",
       " '_gpr',\n",
       " 'kernels']"
      ]
     },
     "execution_count": 46,
     "metadata": {},
     "output_type": "execute_result"
    }
   ],
   "source": [
    "dir(gaussian_process)"
   ]
  },
  {
   "cell_type": "code",
   "execution_count": 2,
   "id": "55992e34-bdd4-4102-bc7c-c7bf1d66fb44",
   "metadata": {},
   "outputs": [],
   "source": [
    "kernel = ConstantKernel() + Matern(length_scale=2, nu=3/2) + WhiteKernel(noise_level=1)"
   ]
  },
  {
   "cell_type": "code",
   "execution_count": 44,
   "id": "8437d030-e1c4-4c29-9274-8c23fd58c74b",
   "metadata": {},
   "outputs": [],
   "source": [
    "X = X.reshape(-1, 1)\n",
    "y = Y.reshape(-1, 1)"
   ]
  },
  {
   "cell_type": "code",
   "execution_count": 48,
   "id": "d667e4a4-6538-4339-b25a-d38f7522d44f",
   "metadata": {},
   "outputs": [
    {
     "name": "stderr",
     "output_type": "stream",
     "text": [
      "/home/jason/miniconda3/envs/gp_p38/lib/python3.8/site-packages/sklearn/gaussian_process/kernels.py:420: ConvergenceWarning: The optimal value found for dimension 0 of parameter k1__k1__constant_value is close to the specified lower bound 1e-05. Decreasing the bound and calling fit again may find a better value.\n",
      "  warnings.warn(\n"
     ]
    },
    {
     "data": {
      "text/html": [
       "<style>#sk-container-id-1 {color: black;background-color: white;}#sk-container-id-1 pre{padding: 0;}#sk-container-id-1 div.sk-toggleable {background-color: white;}#sk-container-id-1 label.sk-toggleable__label {cursor: pointer;display: block;width: 100%;margin-bottom: 0;padding: 0.3em;box-sizing: border-box;text-align: center;}#sk-container-id-1 label.sk-toggleable__label-arrow:before {content: \"▸\";float: left;margin-right: 0.25em;color: #696969;}#sk-container-id-1 label.sk-toggleable__label-arrow:hover:before {color: black;}#sk-container-id-1 div.sk-estimator:hover label.sk-toggleable__label-arrow:before {color: black;}#sk-container-id-1 div.sk-toggleable__content {max-height: 0;max-width: 0;overflow: hidden;text-align: left;background-color: #f0f8ff;}#sk-container-id-1 div.sk-toggleable__content pre {margin: 0.2em;color: black;border-radius: 0.25em;background-color: #f0f8ff;}#sk-container-id-1 input.sk-toggleable__control:checked~div.sk-toggleable__content {max-height: 200px;max-width: 100%;overflow: auto;}#sk-container-id-1 input.sk-toggleable__control:checked~label.sk-toggleable__label-arrow:before {content: \"▾\";}#sk-container-id-1 div.sk-estimator input.sk-toggleable__control:checked~label.sk-toggleable__label {background-color: #d4ebff;}#sk-container-id-1 div.sk-label input.sk-toggleable__control:checked~label.sk-toggleable__label {background-color: #d4ebff;}#sk-container-id-1 input.sk-hidden--visually {border: 0;clip: rect(1px 1px 1px 1px);clip: rect(1px, 1px, 1px, 1px);height: 1px;margin: -1px;overflow: hidden;padding: 0;position: absolute;width: 1px;}#sk-container-id-1 div.sk-estimator {font-family: monospace;background-color: #f0f8ff;border: 1px dotted black;border-radius: 0.25em;box-sizing: border-box;margin-bottom: 0.5em;}#sk-container-id-1 div.sk-estimator:hover {background-color: #d4ebff;}#sk-container-id-1 div.sk-parallel-item::after {content: \"\";width: 100%;border-bottom: 1px solid gray;flex-grow: 1;}#sk-container-id-1 div.sk-label:hover label.sk-toggleable__label {background-color: #d4ebff;}#sk-container-id-1 div.sk-serial::before {content: \"\";position: absolute;border-left: 1px solid gray;box-sizing: border-box;top: 0;bottom: 0;left: 50%;z-index: 0;}#sk-container-id-1 div.sk-serial {display: flex;flex-direction: column;align-items: center;background-color: white;padding-right: 0.2em;padding-left: 0.2em;position: relative;}#sk-container-id-1 div.sk-item {position: relative;z-index: 1;}#sk-container-id-1 div.sk-parallel {display: flex;align-items: stretch;justify-content: center;background-color: white;position: relative;}#sk-container-id-1 div.sk-item::before, #sk-container-id-1 div.sk-parallel-item::before {content: \"\";position: absolute;border-left: 1px solid gray;box-sizing: border-box;top: 0;bottom: 0;left: 50%;z-index: -1;}#sk-container-id-1 div.sk-parallel-item {display: flex;flex-direction: column;z-index: 1;position: relative;background-color: white;}#sk-container-id-1 div.sk-parallel-item:first-child::after {align-self: flex-end;width: 50%;}#sk-container-id-1 div.sk-parallel-item:last-child::after {align-self: flex-start;width: 50%;}#sk-container-id-1 div.sk-parallel-item:only-child::after {width: 0;}#sk-container-id-1 div.sk-dashed-wrapped {border: 1px dashed gray;margin: 0 0.4em 0.5em 0.4em;box-sizing: border-box;padding-bottom: 0.4em;background-color: white;}#sk-container-id-1 div.sk-label label {font-family: monospace;font-weight: bold;display: inline-block;line-height: 1.2em;}#sk-container-id-1 div.sk-label-container {text-align: center;}#sk-container-id-1 div.sk-container {/* jupyter's `normalize.less` sets `[hidden] { display: none; }` but bootstrap.min.css set `[hidden] { display: none !important; }` so we also need the `!important` here to be able to override the default hidden behavior on the sphinx rendered scikit-learn.org. See: https://github.com/scikit-learn/scikit-learn/issues/21755 */display: inline-block !important;position: relative;}#sk-container-id-1 div.sk-text-repr-fallback {display: none;}</style><div id=\"sk-container-id-1\" class=\"sk-top-container\"><div class=\"sk-text-repr-fallback\"><pre>GaussianProcessRegressor(kernel=1**2 + Matern(length_scale=2, nu=1.5) + WhiteKernel(noise_level=1))</pre><b>In a Jupyter environment, please rerun this cell to show the HTML representation or trust the notebook. <br />On GitHub, the HTML representation is unable to render, please try loading this page with nbviewer.org.</b></div><div class=\"sk-container\" hidden><div class=\"sk-item\"><div class=\"sk-estimator sk-toggleable\"><input class=\"sk-toggleable__control sk-hidden--visually\" id=\"sk-estimator-id-1\" type=\"checkbox\" checked><label for=\"sk-estimator-id-1\" class=\"sk-toggleable__label sk-toggleable__label-arrow\">GaussianProcessRegressor</label><div class=\"sk-toggleable__content\"><pre>GaussianProcessRegressor(kernel=1**2 + Matern(length_scale=2, nu=1.5) + WhiteKernel(noise_level=1))</pre></div></div></div></div></div>"
      ],
      "text/plain": [
       "GaussianProcessRegressor(kernel=1**2 + Matern(length_scale=2, nu=1.5) + WhiteKernel(noise_level=1))"
      ]
     },
     "execution_count": 48,
     "metadata": {},
     "output_type": "execute_result"
    }
   ],
   "source": [
    "gp = gaussian_process.GaussianProcessRegressor(kernel=kernel)\n",
    "gp.fit(X, y)"
   ]
  },
  {
   "cell_type": "markdown",
   "id": "4bc5be52-b2a6-4813-b995-dff06ba3c8da",
   "metadata": {},
   "source": [
    "# GPflow"
   ]
  },
  {
   "cell_type": "code",
   "execution_count": 51,
   "id": "52333fb1-bb54-45b6-969f-03da67280f15",
   "metadata": {},
   "outputs": [
    {
     "name": "stderr",
     "output_type": "stream",
     "text": [
      "2022-08-17 21:23:41.879583: W tensorflow/stream_executor/platform/default/dso_loader.cc:64] Could not load dynamic library 'libcudart.so.11.0'; dlerror: libcudart.so.11.0: cannot open shared object file: No such file or directory\n",
      "2022-08-17 21:23:41.879682: I tensorflow/stream_executor/cuda/cudart_stub.cc:29] Ignore above cudart dlerror if you do not have a GPU set up on your machine.\n"
     ]
    },
    {
     "ename": "TypeError",
     "evalue": "__init__() got multiple values for argument 'variance'",
     "output_type": "error",
     "traceback": [
      "\u001b[0;31m---------------------------------------------------------------------------\u001b[0m",
      "\u001b[0;31mTypeError\u001b[0m                                 Traceback (most recent call last)",
      "Input \u001b[0;32mIn [51]\u001b[0m, in \u001b[0;36m<cell line: 2>\u001b[0;34m()\u001b[0m\n\u001b[1;32m      1\u001b[0m \u001b[38;5;28;01mimport\u001b[39;00m \u001b[38;5;21;01mgpflow\u001b[39;00m\n\u001b[0;32m----> 2\u001b[0m k \u001b[38;5;241m=\u001b[39m \u001b[43mgpflow\u001b[49m\u001b[38;5;241;43m.\u001b[39;49m\u001b[43mkernels\u001b[49m\u001b[38;5;241;43m.\u001b[39;49m\u001b[43mMatern32\u001b[49m\u001b[43m(\u001b[49m\u001b[38;5;241;43m1\u001b[39;49m\u001b[43m,\u001b[49m\u001b[43m \u001b[49m\u001b[43mvariance\u001b[49m\u001b[38;5;241;43m=\u001b[39;49m\u001b[38;5;241;43m1\u001b[39;49m\u001b[43m,\u001b[49m\u001b[43m \u001b[49m\u001b[43mlengthscale\u001b[49m\u001b[38;5;241;43m=\u001b[39;49m\u001b[38;5;241;43m1.2\u001b[39;49m\u001b[43m)\u001b[49m\n\u001b[1;32m      3\u001b[0m m \u001b[38;5;241m=\u001b[39m gpflow\u001b[38;5;241m.\u001b[39mgpr\u001b[38;5;241m.\u001b[39mGPR(X, Y, kern\u001b[38;5;241m=\u001b[39mk)\n",
      "\u001b[0;31mTypeError\u001b[0m: __init__() got multiple values for argument 'variance'"
     ]
    }
   ],
   "source": [
    "import gpflow\n",
    "k = gpflow.kernels.Matern32(1, variance=1, lengthscale=1.2)\n",
    "m = gpflow.gpr.GPR(X, Y, kern=k)"
   ]
  },
  {
   "cell_type": "code",
   "execution_count": null,
   "id": "694901aa-e99e-42e5-ba88-7d26b3f9daef",
   "metadata": {},
   "outputs": [],
   "source": []
  }
 ],
 "metadata": {
  "kernelspec": {
   "display_name": "gp_p38",
   "language": "python",
   "name": "gp_p38"
  },
  "language_info": {
   "codemirror_mode": {
    "name": "ipython",
    "version": 3
   },
   "file_extension": ".py",
   "mimetype": "text/x-python",
   "name": "python",
   "nbconvert_exporter": "python",
   "pygments_lexer": "ipython3",
   "version": "3.8.13"
  }
 },
 "nbformat": 4,
 "nbformat_minor": 5
}
